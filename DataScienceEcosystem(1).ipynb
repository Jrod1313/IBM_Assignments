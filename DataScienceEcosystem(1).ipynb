{
 "cells": [
  {
   "cell_type": "markdown",
   "id": "d53fd96b",
   "metadata": {},
   "source": [
    "# Data Science Tools and Ecosystems\n"
   ]
  },
  {
   "cell_type": "markdown",
   "id": "f9d3f417-7d48-4f4e-983a-731de920127e",
   "metadata": {},
   "source": [
    "## Author\n",
    "Jarrod L."
   ]
  },
  {
   "cell_type": "markdown",
   "id": "12ad600d",
   "metadata": {},
   "source": [
    "In this notebook, Data Science tools and Ecosystems are summarized."
   ]
  },
  {
   "cell_type": "markdown",
   "id": "ff435745-4439-471b-b15b-6b15dac5ae4a",
   "metadata": {},
   "source": [
    "## __Objectives:__\n",
    "- Language List\n",
    "- Arithmetic\n",
    "- Conversion to Markdown\n",
    "- Experimenting with Jupyter Notebooks\n",
    "- Completing a Lab to further my Data Science Studies"
   ]
  },
  {
   "cell_type": "markdown",
   "id": "aabfcbbd",
   "metadata": {},
   "source": [
    "__Some of the Popular Languages that Data Scientists use are:__\n",
    "1. Python\n",
    "2. R\n",
    "3. C++"
   ]
  },
  {
   "cell_type": "markdown",
   "id": "b006571a-8fe8-4a7d-9c93-f927f46616ca",
   "metadata": {
    "jupyter": {
     "source_hidden": true
    },
    "tags": []
   },
   "source": [
    "The libraries that are commonly used by Data Scientists include:\n",
    "1. Pandas\n",
    "2. NumPy\n",
    "3. SciPy\n",
    "4. GGplot\n",
    "5. TensorFlow\n",
    "6. PyTorch\n",
    "7. SciKit"
   ]
  },
  {
   "cell_type": "markdown",
   "id": "f9c6afab-34d9-4bff-949a-16a2ec662008",
   "metadata": {},
   "source": [
    "|Data Science Tools|\n",
    "|--------------------|\n",
    "|Jupyter Notebooks|\n",
    "|RStudio|\n",
    "|GitHub|\n",
    "|Visual Studio|\n",
    "|Watson Studio|"
   ]
  },
  {
   "cell_type": "markdown",
   "id": "d1613ad9-cbf2-43c1-8c05-0d9300a2ec43",
   "metadata": {},
   "source": [
    "### Below are a few examples of evaluating arithmetic expressions in Python.\n",
    "\n",
    "x < -3 \n",
    "\n",
    "y < -1\n",
    "\n",
    "z < y - x\n",
    "\n",
    "z= 2"
   ]
  },
  {
   "cell_type": "markdown",
   "id": "91655dfd-44f4-41da-bb09-08aa48d71a74",
   "metadata": {
    "tags": []
   },
   "source": [
    "\"This is a simple arithmetic expression to multiply then add integers:\"\n",
    "    \n",
    "x = (3*4)+5\n",
    "print(x)"
   ]
  },
  {
   "cell_type": "markdown",
   "id": "9f2ad0af-3440-4b62-a627-521cecbaa380",
   "metadata": {
    "tags": []
   },
   "source": [
    "\"This will convert 200 minutes to hours by dividing by 60.\"\n",
    "\n",
    "minutes = 200\n",
    "hours = x\n",
    "x = 200/60\n",
    "print(hours)\n"
   ]
  },
  {
   "cell_type": "code",
   "execution_count": null,
   "id": "c02e3d1d-1932-4a61-8919-b6fa85ec7d6d",
   "metadata": {},
   "outputs": [],
   "source": []
  }
 ],
 "metadata": {
  "kernelspec": {
   "display_name": "Python",
   "language": "python",
   "name": "conda-env-python-py"
  },
  "language_info": {
   "codemirror_mode": {
    "name": "ipython",
    "version": 3
   },
   "file_extension": ".py",
   "mimetype": "text/x-python",
   "name": "python",
   "nbconvert_exporter": "python",
   "pygments_lexer": "ipython3",
   "version": "3.7.12"
  }
 },
 "nbformat": 4,
 "nbformat_minor": 5
}
